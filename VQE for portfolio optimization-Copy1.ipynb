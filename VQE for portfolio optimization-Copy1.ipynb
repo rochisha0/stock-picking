{
 "cells": [
  {
   "cell_type": "markdown",
   "metadata": {},
   "source": [
    "# Writing my own version of Variational Quantum Eigensolver\n",
    "\n",
    "#### Why VQE is important?\n",
    "\n",
    "Many problems require to find minimum eigenvalue of a matrix. We can use quantum phase estimation for this but due to the hardware limits it remains a fundamental challenge in the current NISQ scenario. VQE presents us a quantum-classical approach to overcome this issue.\n",
    "\n",
    "### Some important definitions\n",
    "\n",
    "#### Hamiltonian of the system\n",
    "\n",
    "Hamiltonian of the system gives the total energy (sum of kinetic energy and potential energy) of the system. It basically describes the energy of the system. It can be derived from the Schrodinger equation.\n",
    "\n",
    "#### Eigenvalue\n",
    "\n",
    "## Qunatum Expectation Estimation\n",
    "\n",
    "The quantum expectation estimation algorithm finds the expectation value of any Hamiltonian ($H$) for any input state $\\Psi$\n",
    "\n",
    "Any Hamiltonian might be written as,\n",
    "\n",
    "$$ \\langle H\\rangle = \\sum\\limits_{i\\alpha} h_{\\alpha}^i \\langle\\sigma_{\\alpha}^i\\rangle + \\sum\\limits_{ij\\alpha\\beta} h_{\\alpha\\beta}^{ij} \\langle\\sigma_{\\alpha}^{i}\\sigma_{\\beta}^{j}\\rangle + \\dots$$\n",
    "\n",
    "where, $i$,$j$... identify the subsystem on Hamiltonian act and $\\alpha$, $\\beta$... are Pauli operator, hence, it can be $x$, $y$, $z$ and $i$\n",
    "\n",
    "For example, for one qubit system,\n",
    "\n",
    "\n",
    "$$\\langle H\\rangle=\\langle \\psi|H|\\psi\\rangle=a\\cdot\\langle\\psi|I|\\psi\\rangle+b\\cdot\\langle\\psi|Z|\\psi\\rangle +c\\cdot\\langle\\psi|Y|\\psi\\rangle + +d\\cdot\\langle\\psi|X|\\psi\\rangle$$\n",
    "\n",
    "Thus, the evaluation of $\\langle H \\rangle$reduces to the sum of a polynomial number of expectation values of simple Pauli operators for a quantum state $\\psi$, multiplied by some real constants. A quantum device can efficiently evaluate the expectation value of a tensor product of an arbitrary number of simple Pauli operators. Therefore, with an n-qubit state we can efficiently evaluate the expectation value of this $2^n \\times 2^n$\n",
    "Hamiltonian.\n",
    "\n",
    "The coherence time for measurement of each state in VQE is $O(1)$ (an advantage over QPE) where as the disadvantage is number state preparation is increased and the precision is also affected.\n",
    "\n",
    "In essence, QEE dramatically reduce the coherence time requirement while maintaining an exponential advantage over\n",
    "the classical case, by adding a polynomial number of repetitions with respect to QPE. "
   ]
  },
  {
   "cell_type": "markdown",
   "metadata": {},
   "source": [
    "### VQE\n",
    "\n",
    "#### Mathematics associated\n",
    "\n",
    "Relation between eigenvectors $|\\psi\\rangle$ and eigenvalues $\\lambda$ can be given by,\n",
    "\n",
    "$$H|\\psi\\rangle = \\lambda \\psi$$\n",
    "\n",
    "The eigenvector $|\\psi\\rangle$ corresponding to the lowest eigenvalue is the $|\\psi\\rangle$ that minimizes,\n",
    "\n",
    "$$\\frac{\\langle \\psi|H|\\psi\\rangle}{\\langle \\psi|\\psi\\rangle}$$\n",
    "\n",
    "Or we can also say,\n",
    "\n",
    "$$\\langle \\psi|H|\\psi\\rangle>=E_0$$\n",
    "\n",
    "This simply means that $E_{0}$ is the lowest energy eigenstate (ground state) of $H$"
   ]
  },
  {
   "cell_type": "markdown",
   "metadata": {},
   "source": [
    "#### Variational form\n",
    "\n",
    "The algorithm basically goes over every state $|\\psi\\rangle$ and checks which one of them has the minimum expectation value so that we can find out our lowest eigenvalue. For checking every state we have to create a parametrized circuit (anstanz) that covers each and every possible state. Picking a 'good' anstanz from all possible is an art. The circuit should be created such that it doesn't have many parameters and gates (should be shallow).\n",
    "\n",
    "#### Parameter optimization\n",
    "\n",
    "Now the easy classical work where you have to optimize your parameters for giving you the minimum expectation value. You can use any prebuilt classical optimizer for it or even create your own. "
   ]
  },
  {
   "cell_type": "markdown",
   "metadata": {},
   "source": [
    "## Let us dive into implementing Portfolio optimization from scratch\n",
    "\n",
    "### What is Portfolio Optimization?\n",
    "We are using mean-variance portfolio optimization technique.\n",
    "\n",
    "#### Mean-Variance Analysis\n",
    "\n",
    "According to the [Investopedia](https://www.investopedia.com/terms/m/meanvariance-analysis.asp):\n",
    "\n",
    "Mean-variance analysis is the process of weighing risk, expressed as variance, against expected return. Investors use mean-variance analysis to make decisions about which financial instruments to invest in, based on how much risk they are willing to take on in exchange for different levels of reward. Mean-variance analysis allows investors to find the biggest reward at a given level of risk.\n",
    "\n",
    "## Let us dive into implementing Portfolio optimization from scratch\n",
    "\n",
    "### The first thing we will do is create a cost function which we want to minimize, we will map it into an Ising Hamiltonian. \n"
   ]
  },
  {
   "cell_type": "markdown",
   "metadata": {},
   "source": [
    "Import the libraries"
   ]
  },
  {
   "cell_type": "code",
   "execution_count": 1,
   "metadata": {},
   "outputs": [],
   "source": [
    "from qiskit.finance.data_providers import RandomDataProvider\n",
    "\n",
    "import numpy as np\n",
    "import matplotlib.pyplot as plt\n",
    "import datetime\n",
    "import pandas as pd\n",
    "from nsepy import get_history\n",
    "\n",
    "from docplex.mp.model import Model\n",
    "from qiskit.optimization import QuadraticProgram\n",
    "from qiskit.optimization.converters import LinearEqualityToPenalty\n",
    "from qiskit.aqua.algorithms import NumPyMinimumEigensolver\n",
    "\n",
    "import pennylane as qml"
   ]
  },
  {
   "cell_type": "markdown",
   "metadata": {},
   "source": [
    "I picked three random assets "
   ]
  },
  {
   "cell_type": "code",
   "execution_count": 2,
   "metadata": {},
   "outputs": [],
   "source": [
    "num_assets = 3\n",
    "\n",
    "# Generate expected return and covariance matrix from (random) time-series\n",
    "stocks = [(\"TICKER%s\" % i) for i in range(num_assets)]\n",
    "data = RandomDataProvider(tickers=stocks,\n",
    "                 start=datetime.datetime(2016,1,1),\n",
    "                 end=datetime.datetime(2016,1,30))\n",
    "\n",
    "data.run()\n",
    "mu = data.get_period_return_mean_vector()\n",
    "sigma = data.get_period_return_covariance_matrix()"
   ]
  },
  {
   "cell_type": "markdown",
   "metadata": {},
   "source": [
    "#### Creating the Quadratic program for the following equation\n",
    "\n",
    "max: $  \\mu^T x - qx^T \\sum x$\n",
    "\n",
    "Subject to: $ 1^T x= B$\n",
    "\n",
    "#### where we use the following notation:\n",
    "\n",
    "* x∈{0,1}$^n$  denotes the vector of binary decision variables, which indicate which assets to pick (x[i]=1) and which not to pick (x[i]=0),\n",
    "\n",
    "* $\\mu ∈ R^n$ defines the expected returns for the assets,\n",
    "\n",
    "* $\\sum ∈ R^{n×n}$ specifies the covariances between the assets,\n",
    "\n",
    "* $q>0$ controls the risk appetite of the decision maker,\n",
    "\n",
    "* and $B$ denotes the budget, i.e. the number of assets to be selected out of $n$.\n",
    "\n",
    "We assume the following simplifications: - all assets have the same price (normalized to 1), - the full budget $B$ has to be spent, i.e. one has to select exactly $B$ assets."
   ]
  },
  {
   "cell_type": "code",
   "execution_count": 3,
   "metadata": {},
   "outputs": [
    {
     "data": {
      "text/plain": [
       "3"
      ]
     },
     "execution_count": 3,
     "metadata": {},
     "output_type": "execute_result"
    }
   ],
   "source": [
    "q = 0.5                   # set risk factor\n",
    "budget = 2       # set budget\n",
    "penalty = num_assets      # set parameter to scale the budget penalty term\n",
    "\n",
    "mdl = Model('docplex model')\n",
    "x = mdl.binary_var_list(num_assets)\n",
    "\n",
    "# set objective function: \n",
    "#\n",
    "#     maximize { mu^T * x - q * x^T * sigma * x }\n",
    "#\n",
    "\n",
    "objective = mdl.sum([mu[i] * x[i] for i in range(num_assets)])  # mu^T * x\n",
    "objective -= q * mdl.sum([sigma[i][j]*x[i]*x[j] for i in range(num_assets) for j in range(num_assets)])\n",
    "mdl.maximize(objective)\n",
    "\n",
    "# add budget constraint: \n",
    "#\n",
    "#     1^T * x == budget\n",
    "#\n",
    "cost = mdl.sum([x[i] for i in range(num_assets)])\n",
    "mdl.add_constraint(cost == budget, ctname='budget')\n",
    "    \n",
    "\n",
    "# converting to Quadratic Program\n",
    "mod = QuadraticProgram()        \n",
    "mod.from_docplex(mdl)\n",
    "\n",
    "#removing the constraint to create the QUBO\n",
    "lineq2penalty = LinearEqualityToPenalty(penalty) \n",
    "qubo = lineq2penalty.convert(mod)\n",
    "\n",
    "#converting QUBO to an Ising Hamiltonian\n",
    "H, offset = qubo.to_ising()\n",
    "H.num_qubits"
   ]
  },
  {
   "cell_type": "code",
   "execution_count": 4,
   "metadata": {},
   "outputs": [],
   "source": [
    "H = H.to_legacy_op()"
   ]
  },
  {
   "cell_type": "code",
   "execution_count": 5,
   "metadata": {},
   "outputs": [
    {
     "data": {
      "text/plain": [
       "'IIZ\\t(1.501422014692973+0j)\\nIZI\\t(1.4979743058607915+0j)\\nZII\\t(1.4739551949248786+0j)\\nIZZ\\t(1.4999733674730762+0j)\\nZIZ\\t(1.4999533939799499+0j)\\nZZI\\t(1.5002852402300548+0j)\\n'"
      ]
     },
     "execution_count": 5,
     "metadata": {},
     "output_type": "execute_result"
    }
   ],
   "source": [
    "H.print_details()"
   ]
  },
  {
   "cell_type": "markdown",
   "metadata": {},
   "source": [
    "Defining a 2 layer `ansatz` with 9 parameters"
   ]
  },
  {
   "cell_type": "code",
   "execution_count": 6,
   "metadata": {},
   "outputs": [],
   "source": [
    "def ansatz(theta):\n",
    "    \n",
    "    qml.RX(theta[0], wires=0)\n",
    "    qml.RX(theta[1], wires=1)\n",
    "    qml.RX(theta[2], wires=2)\n",
    "    qml.CNOT(wires=[0,1])\n",
    "    qml.CNOT(wires=[0,2])\n",
    "    qml.CNOT(wires=[1,2])\n",
    "    qml.RX(theta[3], wires=0)\n",
    "    qml.RX(theta[4], wires=1)\n",
    "    qml.RX(theta[5], wires=2)\n",
    "    qml.CNOT(wires=[0,1])\n",
    "    qml.CNOT(wires=[0,2])\n",
    "    qml.CNOT(wires=[1,2])\n",
    "    qml.RX(theta[6], wires=0)\n",
    "    qml.RX(theta[7], wires=1)\n",
    "    qml.RX(theta[8], wires=2)\n",
    "    \n",
    "    return ansatz\n",
    "\n",
    "dev1 = qml.device(\"default.qubit\", wires=3)"
   ]
  },
  {
   "cell_type": "markdown",
   "metadata": {},
   "source": [
    "Functions for returning the `expectation value` in a `particular basis`"
   ]
  },
  {
   "cell_type": "code",
   "execution_count": 7,
   "metadata": {},
   "outputs": [],
   "source": [
    "@qml.qnode(dev1)\n",
    "def circuit_IIZ(params):\n",
    "    ansatz(params)\n",
    "    return qml.expval(qml.Identity(0)@qml.Identity(1)@qml.PauliZ(2))\n",
    "\n",
    "@qml.qnode(dev1)\n",
    "def circuit_IZI(params):\n",
    "    ansatz(params)\n",
    "    return qml.expval(qml.Identity(0)@qml.PauliZ(1)@qml.Identity(2))\n",
    "\n",
    "@qml.qnode(dev1)\n",
    "def circuit_ZII(params):\n",
    "    ansatz(params)\n",
    "    return qml.expval(qml.PauliZ(0)@qml.Identity(1)@qml.Identity(2))\n",
    "\n",
    "@qml.qnode(dev1)\n",
    "def circuit_IZZ(params):\n",
    "    ansatz(params)\n",
    "    return qml.expval(qml.Identity(0)@qml.PauliZ(1)@qml.PauliZ(2))\n",
    "\n",
    "@qml.qnode(dev1)\n",
    "def circuit_ZIZ(params):\n",
    "    ansatz(params)\n",
    "    return qml.expval(qml.PauliZ(0)@qml.Identity(1)@qml.PauliZ(2))\n",
    "\n",
    "@qml.qnode(dev1)\n",
    "def circuit_ZZI(params):\n",
    "    ansatz(params)\n",
    "    return qml.expval(qml.PauliZ(0)@qml.PauliZ(1)@qml.Identity(2))\n"
   ]
  },
  {
   "cell_type": "markdown",
   "metadata": {},
   "source": [
    "Change the `Hamiltonian` into a `dictionary` form just for the ease"
   ]
  },
  {
   "cell_type": "code",
   "execution_count": 8,
   "metadata": {},
   "outputs": [],
   "source": [
    "def pauli_operator_to_dict(pauli_operator):\n",
    "    \n",
    "    d = pauli_operator.to_dict()\n",
    "    paulis = d['paulis']\n",
    "    paulis_dict = {}\n",
    "\n",
    "    for x in paulis:\n",
    "        label = x['label']\n",
    "        coeff = x['coeff']['real']\n",
    "        paulis_dict[label] = coeff\n",
    "\n",
    "    return paulis_dict\n",
    "\n",
    "pauli_dict = pauli_operator_to_dict(H)"
   ]
  },
  {
   "cell_type": "markdown",
   "metadata": {},
   "source": [
    "Now we define our final function `VQE` (our objective function). We want to maximize this function."
   ]
  },
  {
   "cell_type": "code",
   "execution_count": 14,
   "metadata": {},
   "outputs": [],
   "source": [
    "def vqe(parameters):\n",
    "    \n",
    "    expval_ZII = pauli_dict['ZII'] * circuit_ZII(parameters)  \n",
    "    expval_IIZ = pauli_dict['IIZ'] * circuit_IIZ(parameters)\n",
    "    expval_IZI = pauli_dict['IZI'] * circuit_IZI(parameters)\n",
    "    expval_ZZI = pauli_dict['ZZI'] * circuit_ZZI(parameters)\n",
    "    expval_ZIZ = pauli_dict['ZIZ'] * circuit_ZIZ(parameters)\n",
    "    expval_IZZ = pauli_dict['IZZ'] * circuit_IZZ(parameters)\n",
    "    \n",
    "    # summing the measurement results\n",
    "    classical_adder = expval_ZII + expval_IIZ + expval_ZIZ +  expval_ZZI + expval_ZIZ + expval_IZZ\n",
    "    \n",
    "    return classical_adder"
   ]
  },
  {
   "cell_type": "markdown",
   "metadata": {},
   "source": [
    "Run optimization using `Gradient Descent` "
   ]
  },
  {
   "cell_type": "code",
   "execution_count": 19,
   "metadata": {},
   "outputs": [
    {
     "data": {
      "text/plain": [
       "[<matplotlib.lines.Line2D at 0x7f3e881c4250>]"
      ]
     },
     "execution_count": 19,
     "metadata": {},
     "output_type": "execute_result"
    },
    {
     "data": {
      "image/png": "[encoded data removed]",
      "text/plain": [
       "<Figure size 432x288 with 1 Axes>"
      ]
     },
     "metadata": {
      "needs_background": "light"
     },
     "output_type": "display_data"
    }
   ],
   "source": [
    "opt = qml.GradientDescentOptimizer(stepsize=0.5)\n",
    "value = []\n",
    "    # optimize parameters in objective\n",
    "params = np.random.rand(9)\n",
    "\n",
    "steps = 200\n",
    "for i in range(steps):\n",
    "    params = opt.step(vqe, params)\n",
    "    value.append(vqe(params))\n",
    "plt.plot(value)\n"
   ]
  },
  {
   "cell_type": "markdown",
   "metadata": {},
   "source": [
    "Create the final circuit"
   ]
  },
  {
   "cell_type": "code",
   "execution_count": 20,
   "metadata": {},
   "outputs": [],
   "source": [
    "@qml.qnode(dev1)\n",
    "def final_circ(params):\n",
    "    ansatz(params)\n",
    "    return qml.probs(wires=[0,1,2])"
   ]
  },
  {
   "cell_type": "code",
   "execution_count": 23,
   "metadata": {},
   "outputs": [
    {
     "data": {
      "text/plain": [
       "array([ 8.87649746e-17,  1.75810197e+00,  8.12027412e-01, -2.77617528e+00,\n",
       "       -3.54893425e-01,  4.58888255e-01, -6.34683174e-02,  1.38349068e+00,\n",
       "        5.41409939e-01])"
      ]
     },
     "execution_count": 23,
     "metadata": {},
     "output_type": "execute_result"
    }
   ],
   "source": [
    "params"
   ]
  },
  {
   "cell_type": "markdown",
   "metadata": {},
   "source": [
    "Plot the results"
   ]
  },
  {
   "cell_type": "code",
   "execution_count": 21,
   "metadata": {},
   "outputs": [
    {
     "data": {
      "text/plain": [
       "<BarContainer object of 8 artists>"
      ]
     },
     "execution_count": 21,
     "metadata": {},
     "output_type": "execute_result"
    },
    {
     "data": {
      "image/png": "[encoded data removed]",
      "text/plain": [
       "<Figure size 432x288 with 1 Axes>"
      ]
     },
     "metadata": {
      "needs_background": "light"
     },
     "output_type": "display_data"
    }
   ],
   "source": [
    "plt.bar(['000', '001', '010', '011', '100', '101', '110', '111'], final_circ(params))"
   ]
  },
  {
   "cell_type": "markdown",
   "metadata": {},
   "source": [
    "Result from classical eigensolver"
   ]
  },
  {
   "cell_type": "code",
   "execution_count": 22,
   "metadata": {},
   "outputs": [
    {
     "data": {
      "text/plain": [
       "array([1, 1, 0])"
      ]
     },
     "execution_count": 22,
     "metadata": {},
     "output_type": "execute_result"
    }
   ],
   "source": [
    "from qiskit.optimization.applications.ising.common import sample_most_likely\n",
    "\n",
    "exact_eigensolver = NumPyMinimumEigensolver(H)\n",
    "result = exact_eigensolver.run()\n",
    "sample_most_likely(result.eigenstate)"
   ]
  },
  {
   "cell_type": "markdown",
   "metadata": {},
   "source": [
    "Voila! We have successfully implemented VQE for portfolio optimization"
   ]
  },
  {
   "cell_type": "code",
   "execution_count": 19,
   "metadata": {},
   "outputs": [
    {
     "data": {
      "text/plain": [
       "{'IIZ': 1.4999184252566864,\n",
       " 'IZI': 1.4974874330816923,\n",
       " 'ZII': 1.5000276632129483,\n",
       " 'IZZ': 1.4999674788764301,\n",
       " 'ZIZ': 1.500009973201855,\n",
       " 'ZZI': 1.4999888631468683}"
      ]
     },
     "execution_count": 19,
     "metadata": {},
     "output_type": "execute_result"
    }
   ],
   "source": [
    " pauli_dict"
   ]
  },
  {
   "cell_type": "code",
   "execution_count": 20,
   "metadata": {},
   "outputs": [
    {
     "data": {
      "text/plain": [
       "'IIZ\\t(1.4999184252566864+0j)\\nIZI\\t(1.4974874330816923+0j)\\nZII\\t(1.5000276632129483+0j)\\nIZZ\\t(1.4999674788764301+0j)\\nZIZ\\t(1.500009973201855+0j)\\nZZI\\t(1.4999888631468683+0j)\\n'"
      ]
     },
     "execution_count": 20,
     "metadata": {},
     "output_type": "execute_result"
    }
   ],
   "source": [
    "H.print_details()"
   ]
  },
  {
   "cell_type": "code",
   "execution_count": null,
   "metadata": {},
   "outputs": [],
   "source": []
  },
  {
   "cell_type": "code",
   "execution_count": null,
   "metadata": {},
   "outputs": [],
   "source": []
  },
  {
   "cell_type": "code",
   "execution_count": null,
   "metadata": {},
   "outputs": [],
   "source": []
  }
 ],
 "metadata": {
  "kernelspec": {
   "display_name": "Python 3.8.5 64-bit ('quantum': conda)",
   "language": "python",
   "name": "python38564bitquantumcondac6d49497be9f46f4a52c048f3dd968a0"
  },
  "language_info": {
   "codemirror_mode": {
    "name": "ipython",
    "version": 3
   },
   "file_extension": ".py",
   "mimetype": "text/x-python",
   "name": "python",
   "nbconvert_exporter": "python",
   "pygments_lexer": "ipython3",
   "version": "3.8.5"
  }
 },
 "nbformat": 4,
 "nbformat_minor": 4
}
